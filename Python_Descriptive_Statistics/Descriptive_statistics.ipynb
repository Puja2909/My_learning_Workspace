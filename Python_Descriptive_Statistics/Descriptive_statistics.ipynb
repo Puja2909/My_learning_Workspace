{
 "cells": [
  {
   "cell_type": "markdown",
   "id": "a84709f6",
   "metadata": {},
   "source": [
    "#QUESTION 1\n",
    "he average selling price of a food item in a restaurant is Rs 250.00 and the standard deviation \n",
    "of the price is Rs 47.00. The median value is an indication of the central value of the data and is \n",
    "close to the mean of Rs 202.00. If you know these details, will you become a regular customer \n",
    "of the restaurant?"
   ]
  },
  {
   "cell_type": "code",
   "execution_count": 1,
   "id": "726e6f5b",
   "metadata": {},
   "outputs": [],
   "source": [
    "#Median and mean are very close to eachother i.e Rs. 202 and considering average selling price for food item as mode which\n",
    "#is Rs.250 is fairly close to Mean and median.Standard deviation is low so spread of data is less. Considering all these\n",
    "#factors we can conclude that we can become regular customer of the restaurant."
   ]
  },
  {
   "cell_type": "markdown",
   "id": "e91d1746",
   "metadata": {},
   "source": [
    "QUESTION 2\n",
    "n a residential locality, the average size of a house is 2224 square feet with a standard \n",
    "deviation of 248 square feet which indicates that the distribution of size is fairly the same \n",
    "across the data and the median value of the house is 2220 square feet. Does the locality have \n",
    "bigger or smaller-sized houses?"
   ]
  },
  {
   "cell_type": "code",
   "execution_count": 2,
   "id": "ecc6d813",
   "metadata": {},
   "outputs": [],
   "source": [
    "#As we donot have data set to represent or understand sizes for different categories like big or small size houses.\n",
    "#It is inconclusive to provide with answer"
   ]
  },
  {
   "cell_type": "markdown",
   "id": "008f9db9",
   "metadata": {},
   "source": [
    "QUESTION 3\n",
    "You want to invest in real estate, and you have the data belonging to locality X and Y. Some of \n",
    "the house prices in locality X are 2.00 L,10.00 L, 8.00 L, and 12.00 L and the prices of houses in \n",
    "Y are 2.5 L, 9.50 L, 8.15 L, and 12.50 L. Conduct a statistical measure to decide which locality is \n",
    "best for investment"
   ]
  },
  {
   "cell_type": "code",
   "execution_count": 85,
   "id": "2c5a7af6",
   "metadata": {},
   "outputs": [],
   "source": [
    "import pandas as pd\n",
    "import numpy as np"
   ]
  },
  {
   "cell_type": "code",
   "execution_count": 8,
   "id": "97cc905d",
   "metadata": {},
   "outputs": [],
   "source": [
    "x=[2.0,10.0,8.0,12]\n",
    "y=[2.5,9.50,8.15,12.50]"
   ]
  },
  {
   "cell_type": "code",
   "execution_count": 9,
   "id": "b6d98f5e",
   "metadata": {},
   "outputs": [],
   "source": [
    "from scipy import stats"
   ]
  },
  {
   "cell_type": "code",
   "execution_count": 10,
   "id": "15308078",
   "metadata": {},
   "outputs": [
    {
     "data": {
      "text/plain": [
       "DescribeResult(nobs=4, minmax=(2.0, 12.0), mean=8.0, variance=18.666666666666668, skewness=-0.6872431934890912, kurtosis=-1.0)"
      ]
     },
     "execution_count": 10,
     "metadata": {},
     "output_type": "execute_result"
    }
   ],
   "source": [
    "stats.describe(x)"
   ]
  },
  {
   "cell_type": "code",
   "execution_count": 11,
   "id": "ad783f7c",
   "metadata": {},
   "outputs": [
    {
     "data": {
      "text/plain": [
       "DescribeResult(nobs=4, minmax=(2.5, 12.5), mean=8.1625, variance=17.555625000000003, skewness=-0.5105200241038664, kurtosis=-1.0023686254365762)"
      ]
     },
     "execution_count": 11,
     "metadata": {},
     "output_type": "execute_result"
    }
   ],
   "source": [
    "stats.describe(y)"
   ]
  },
  {
   "cell_type": "code",
   "execution_count": 12,
   "id": "69075e8c",
   "metadata": {},
   "outputs": [],
   "source": [
    "#data is quiet close to eachother still variance is Y is low in Y as compared to X as well as Skew value is better in Y, so\n",
    "#Investing in locality Y will be better."
   ]
  },
  {
   "cell_type": "markdown",
   "id": "0b8c3ec0",
   "metadata": {},
   "source": [
    "QUESTION 4\n",
    "During a survey, the ages of 80 patients, infected by COVID and admitted to one of the city \n",
    "hospitals, were recorded. The collected data is represented in the less-than-cumulative \n",
    "frequency distribution table. Read the questions below the table and provide your answers.\n",
    "Age (in yrs.) No. of Patients\n",
    "5 - 15 6\n",
    "15 - 25 11\n",
    "25 - 35 21\n",
    "35 - 45 23\n",
    "45 - 55 14\n",
    "55 - 65 5\n",
    "a. Which class interval has the highest frequency?\n",
    "b. Which age was affected the least?\n",
    "c. How many patients of age 45 years and above were admitted?\n",
    "d. Which is the modal class interval in the above dataset?\n",
    "e. What is the median class interval of age?"
   ]
  },
  {
   "cell_type": "code",
   "execution_count": 49,
   "id": "97c3c7c2",
   "metadata": {},
   "outputs": [
    {
     "data": {
      "text/html": [
       "<div>\n",
       "<style scoped>\n",
       "    .dataframe tbody tr th:only-of-type {\n",
       "        vertical-align: middle;\n",
       "    }\n",
       "\n",
       "    .dataframe tbody tr th {\n",
       "        vertical-align: top;\n",
       "    }\n",
       "\n",
       "    .dataframe thead th {\n",
       "        text-align: right;\n",
       "    }\n",
       "</style>\n",
       "<table border=\"1\" class=\"dataframe\">\n",
       "  <thead>\n",
       "    <tr style=\"text-align: right;\">\n",
       "      <th></th>\n",
       "      <th>Agegroup</th>\n",
       "      <th>Patients</th>\n",
       "    </tr>\n",
       "  </thead>\n",
       "  <tbody>\n",
       "    <tr>\n",
       "      <th>0</th>\n",
       "      <td>05-15</td>\n",
       "      <td>6</td>\n",
       "    </tr>\n",
       "    <tr>\n",
       "      <th>1</th>\n",
       "      <td>15-25</td>\n",
       "      <td>11</td>\n",
       "    </tr>\n",
       "    <tr>\n",
       "      <th>2</th>\n",
       "      <td>25-35</td>\n",
       "      <td>21</td>\n",
       "    </tr>\n",
       "    <tr>\n",
       "      <th>3</th>\n",
       "      <td>35-45</td>\n",
       "      <td>23</td>\n",
       "    </tr>\n",
       "    <tr>\n",
       "      <th>4</th>\n",
       "      <td>45-55</td>\n",
       "      <td>14</td>\n",
       "    </tr>\n",
       "    <tr>\n",
       "      <th>5</th>\n",
       "      <td>55-65</td>\n",
       "      <td>5</td>\n",
       "    </tr>\n",
       "  </tbody>\n",
       "</table>\n",
       "</div>"
      ],
      "text/plain": [
       "  Agegroup  Patients\n",
       "0    05-15         6\n",
       "1    15-25        11\n",
       "2    25-35        21\n",
       "3    35-45        23\n",
       "4    45-55        14\n",
       "5    55-65         5"
      ]
     },
     "execution_count": 49,
     "metadata": {},
     "output_type": "execute_result"
    }
   ],
   "source": [
    "df= pd.DataFrame(data={'Agegroup': ['05-15','15-25','25-35','35-45','45-55','55-65'],'Patients': [6,11,21,23,14,5]})\n",
    "df"
   ]
  },
  {
   "cell_type": "code",
   "execution_count": 69,
   "id": "9beafe7b",
   "metadata": {},
   "outputs": [
    {
     "data": {
      "text/html": [
       "<div>\n",
       "<style scoped>\n",
       "    .dataframe tbody tr th:only-of-type {\n",
       "        vertical-align: middle;\n",
       "    }\n",
       "\n",
       "    .dataframe tbody tr th {\n",
       "        vertical-align: top;\n",
       "    }\n",
       "\n",
       "    .dataframe thead th {\n",
       "        text-align: right;\n",
       "    }\n",
       "</style>\n",
       "<table border=\"1\" class=\"dataframe\">\n",
       "  <thead>\n",
       "    <tr style=\"text-align: right;\">\n",
       "      <th></th>\n",
       "      <th>Agegroup</th>\n",
       "      <th>Patients</th>\n",
       "    </tr>\n",
       "  </thead>\n",
       "  <tbody>\n",
       "    <tr>\n",
       "      <th>3</th>\n",
       "      <td>35-45</td>\n",
       "      <td>23</td>\n",
       "    </tr>\n",
       "    <tr>\n",
       "      <th>2</th>\n",
       "      <td>25-35</td>\n",
       "      <td>21</td>\n",
       "    </tr>\n",
       "    <tr>\n",
       "      <th>4</th>\n",
       "      <td>45-55</td>\n",
       "      <td>14</td>\n",
       "    </tr>\n",
       "    <tr>\n",
       "      <th>1</th>\n",
       "      <td>15-25</td>\n",
       "      <td>11</td>\n",
       "    </tr>\n",
       "    <tr>\n",
       "      <th>0</th>\n",
       "      <td>05-15</td>\n",
       "      <td>6</td>\n",
       "    </tr>\n",
       "    <tr>\n",
       "      <th>5</th>\n",
       "      <td>55-65</td>\n",
       "      <td>5</td>\n",
       "    </tr>\n",
       "  </tbody>\n",
       "</table>\n",
       "</div>"
      ],
      "text/plain": [
       "  Agegroup  Patients\n",
       "3    35-45        23\n",
       "2    25-35        21\n",
       "4    45-55        14\n",
       "1    15-25        11\n",
       "0    05-15         6\n",
       "5    55-65         5"
      ]
     },
     "execution_count": 69,
     "metadata": {},
     "output_type": "execute_result"
    }
   ],
   "source": [
    "#4.a.---age group 35-45 has max frequency\n",
    "df.sort_values(by='Patients',ascending=False)"
   ]
  },
  {
   "cell_type": "code",
   "execution_count": 70,
   "id": "ac5c9cd4",
   "metadata": {},
   "outputs": [],
   "source": [
    "#4.b.---Age group 55-65 was affected the least"
   ]
  },
  {
   "cell_type": "code",
   "execution_count": 78,
   "id": "97b62641",
   "metadata": {},
   "outputs": [],
   "source": [
    "#4.c.--19 Patients were admitted for above age group 45\n"
   ]
  },
  {
   "cell_type": "code",
   "execution_count": 79,
   "id": "c1ec1e2f",
   "metadata": {},
   "outputs": [],
   "source": [
    "#4.d.---35-45 is the modal class"
   ]
  },
  {
   "cell_type": "code",
   "execution_count": 1,
   "id": "a467629b",
   "metadata": {},
   "outputs": [],
   "source": [
    "#4.e.---the median class interval is (45-55)"
   ]
  },
  {
   "cell_type": "markdown",
   "id": "59122691",
   "metadata": {},
   "source": [
    "QUESTION 5\n",
    "Assume, you are a trader and have invested over the years for your retirement. Lately, with the \n",
    "fluctuating economical condition, you are worried about the average return on investment. What \n",
    "average method is appropriate to compute the average return for the data given in the table?\n",
    "Year Return Asset Price\n",
    "2015 36% 5000\n",
    "2016 23% 6400\n",
    "2017 -48% 7890\n",
    "2\n",
    "2018 -30% 9023\n",
    "2019 15% 4567\n",
    "2020 31% 389"
   ]
  },
  {
   "cell_type": "code",
   "execution_count": 14,
   "id": "2637dca5",
   "metadata": {},
   "outputs": [],
   "source": [
    "# geometric mean can be used to calculate average return for the given data\n",
    "\n",
    "Return=[36,23,-48,-30,15,31]\n"
   ]
  },
  {
   "cell_type": "code",
   "execution_count": 15,
   "id": "66f66813",
   "metadata": {},
   "outputs": [],
   "source": [
    "from scipy.stats.mstats import gmean"
   ]
  },
  {
   "cell_type": "code",
   "execution_count": 16,
   "id": "28f31e04",
   "metadata": {},
   "outputs": [
    {
     "name": "stdout",
     "output_type": "stream",
     "text": [
      "nan\n"
     ]
    }
   ],
   "source": [
    "print(gmean(Return))"
   ]
  },
  {
   "cell_type": "code",
   "execution_count": 24,
   "id": "90f1e8c9",
   "metadata": {},
   "outputs": [
    {
     "data": {
      "text/plain": [
       "0.9857174009193316"
      ]
     },
     "execution_count": 24,
     "metadata": {},
     "output_type": "execute_result"
    }
   ],
   "source": [
    "((1+0.36)*(1+0.23)*(1-0.48)*(1-0.3)*(1+0.15)*(1+0.31))**(1/6)"
   ]
  },
  {
   "cell_type": "code",
   "execution_count": 25,
   "id": "887f2c2e",
   "metadata": {},
   "outputs": [
    {
     "data": {
      "text/plain": [
       "-0.020000000000000018"
      ]
     },
     "execution_count": 25,
     "metadata": {},
     "output_type": "execute_result"
    }
   ],
   "source": [
    "0.98-1"
   ]
  },
  {
   "cell_type": "markdown",
   "id": "208bcceb",
   "metadata": {},
   "source": [
    "QUESTION 6\n",
    "suppose you have been told to measure the height of all men on the earth. What strategy would \n",
    "you use?"
   ]
  },
  {
   "cell_type": "code",
   "execution_count": 26,
   "id": "f61e2c96",
   "metadata": {},
   "outputs": [],
   "source": [
    "#we will use Variance to find height of all men on earth"
   ]
  },
  {
   "cell_type": "raw",
   "id": "758cbd1c",
   "metadata": {},
   "source": [
    "QUESTION 7\n",
    "Calculate the z score of the following numbers:\n",
    " X = [4.5,6.2,7.3,9.1,10.4,11]"
   ]
  },
  {
   "cell_type": "code",
   "execution_count": 41,
   "id": "1bf60a4c",
   "metadata": {},
   "outputs": [],
   "source": [
    "X=[4.5,6.2,7.3,9.1,10.4,11]"
   ]
  },
  {
   "cell_type": "code",
   "execution_count": 42,
   "id": "972fb793",
   "metadata": {},
   "outputs": [
    {
     "data": {
      "text/plain": [
       "array([-1.55385602, -0.81667781, -0.33968015,  0.44086148,  1.00458598,\n",
       "        1.26476653])"
      ]
     },
     "execution_count": 42,
     "metadata": {},
     "output_type": "execute_result"
    }
   ],
   "source": [
    "from scipy import stats\n",
    "stats.zscore(X)"
   ]
  },
  {
   "cell_type": "markdown",
   "id": "241d4a6b",
   "metadata": {},
   "source": [
    "Section 2\n",
    "QUESTIONS\n",
    "You are expected to perform statistical analysis for the Bank Personal Loan Modelling dataset. Below \n",
    "is the data dictionary. For questions 8 to 20, use the Bank Personal Loan Modelling dataset and answer \n",
    "the given questions.\n",
    "8. Give the statistical summary for all the variables in the dataset.\n",
    "9. Give all the measures of central tendency for all the quantitative variables which are continuous \n",
    "and discrete.\n",
    "10. Can you apply any statistical method to observe any similarity in distribution between age and \n",
    "experience variables?\n",
    "11. Who are the most frequent family members present in this dataset?\n",
    "12. What is the coefficient of variation you can observe in the ‘Income’ variable?\n",
    "13. The ‘Mortgage’ variable is having a lot of zeroes. Impute with some business logical value that \n",
    "you feel fit for the data.\n",
    "14. Do customers with credit cards have any impact on their experience and income"
   ]
  },
  {
   "cell_type": "code",
   "execution_count": 3,
   "id": "23cdf815",
   "metadata": {},
   "outputs": [
    {
     "name": "stderr",
     "output_type": "stream",
     "text": [
      "C:\\Users\\rutsb\\anaconda3\\lib\\site-packages\\openpyxl\\worksheet\\_reader.py:312: UserWarning: Unknown extension is not supported and will be removed\n",
      "  warn(msg)\n"
     ]
    },
    {
     "data": {
      "text/html": [
       "<div>\n",
       "<style scoped>\n",
       "    .dataframe tbody tr th:only-of-type {\n",
       "        vertical-align: middle;\n",
       "    }\n",
       "\n",
       "    .dataframe tbody tr th {\n",
       "        vertical-align: top;\n",
       "    }\n",
       "\n",
       "    .dataframe thead th {\n",
       "        text-align: right;\n",
       "    }\n",
       "</style>\n",
       "<table border=\"1\" class=\"dataframe\">\n",
       "  <thead>\n",
       "    <tr style=\"text-align: right;\">\n",
       "      <th></th>\n",
       "      <th>ID</th>\n",
       "      <th>Age</th>\n",
       "      <th>Experience</th>\n",
       "      <th>Income</th>\n",
       "      <th>ZIP Code</th>\n",
       "      <th>Family</th>\n",
       "      <th>CCAvg</th>\n",
       "      <th>Education</th>\n",
       "      <th>Mortgage</th>\n",
       "      <th>Personal Loan</th>\n",
       "      <th>Securities Account</th>\n",
       "      <th>CD Account</th>\n",
       "      <th>Online</th>\n",
       "      <th>CreditCard</th>\n",
       "    </tr>\n",
       "  </thead>\n",
       "  <tbody>\n",
       "    <tr>\n",
       "      <th>0</th>\n",
       "      <td>1.0</td>\n",
       "      <td>25.0</td>\n",
       "      <td>1.0</td>\n",
       "      <td>49.0</td>\n",
       "      <td>91107.0</td>\n",
       "      <td>4.0</td>\n",
       "      <td>1.6</td>\n",
       "      <td>1.0</td>\n",
       "      <td>0.0</td>\n",
       "      <td>0.0</td>\n",
       "      <td>1.0</td>\n",
       "      <td>0.0</td>\n",
       "      <td>0.0</td>\n",
       "      <td>0.0</td>\n",
       "    </tr>\n",
       "    <tr>\n",
       "      <th>1</th>\n",
       "      <td>2.0</td>\n",
       "      <td>45.0</td>\n",
       "      <td>19.0</td>\n",
       "      <td>34.0</td>\n",
       "      <td>90089.0</td>\n",
       "      <td>3.0</td>\n",
       "      <td>1.5</td>\n",
       "      <td>1.0</td>\n",
       "      <td>0.0</td>\n",
       "      <td>0.0</td>\n",
       "      <td>1.0</td>\n",
       "      <td>0.0</td>\n",
       "      <td>0.0</td>\n",
       "      <td>0.0</td>\n",
       "    </tr>\n",
       "    <tr>\n",
       "      <th>2</th>\n",
       "      <td>3.0</td>\n",
       "      <td>39.0</td>\n",
       "      <td>15.0</td>\n",
       "      <td>11.0</td>\n",
       "      <td>94720.0</td>\n",
       "      <td>1.0</td>\n",
       "      <td>1.0</td>\n",
       "      <td>1.0</td>\n",
       "      <td>0.0</td>\n",
       "      <td>0.0</td>\n",
       "      <td>0.0</td>\n",
       "      <td>0.0</td>\n",
       "      <td>0.0</td>\n",
       "      <td>0.0</td>\n",
       "    </tr>\n",
       "    <tr>\n",
       "      <th>3</th>\n",
       "      <td>4.0</td>\n",
       "      <td>35.0</td>\n",
       "      <td>9.0</td>\n",
       "      <td>100.0</td>\n",
       "      <td>94112.0</td>\n",
       "      <td>1.0</td>\n",
       "      <td>2.7</td>\n",
       "      <td>2.0</td>\n",
       "      <td>0.0</td>\n",
       "      <td>0.0</td>\n",
       "      <td>0.0</td>\n",
       "      <td>0.0</td>\n",
       "      <td>0.0</td>\n",
       "      <td>0.0</td>\n",
       "    </tr>\n",
       "    <tr>\n",
       "      <th>4</th>\n",
       "      <td>5.0</td>\n",
       "      <td>35.0</td>\n",
       "      <td>8.0</td>\n",
       "      <td>45.0</td>\n",
       "      <td>91330.0</td>\n",
       "      <td>4.0</td>\n",
       "      <td>1.0</td>\n",
       "      <td>2.0</td>\n",
       "      <td>0.0</td>\n",
       "      <td>0.0</td>\n",
       "      <td>0.0</td>\n",
       "      <td>0.0</td>\n",
       "      <td>0.0</td>\n",
       "      <td>1.0</td>\n",
       "    </tr>\n",
       "    <tr>\n",
       "      <th>...</th>\n",
       "      <td>...</td>\n",
       "      <td>...</td>\n",
       "      <td>...</td>\n",
       "      <td>...</td>\n",
       "      <td>...</td>\n",
       "      <td>...</td>\n",
       "      <td>...</td>\n",
       "      <td>...</td>\n",
       "      <td>...</td>\n",
       "      <td>...</td>\n",
       "      <td>...</td>\n",
       "      <td>...</td>\n",
       "      <td>...</td>\n",
       "      <td>...</td>\n",
       "    </tr>\n",
       "    <tr>\n",
       "      <th>4995</th>\n",
       "      <td>4996.0</td>\n",
       "      <td>29.0</td>\n",
       "      <td>3.0</td>\n",
       "      <td>40.0</td>\n",
       "      <td>92697.0</td>\n",
       "      <td>1.0</td>\n",
       "      <td>1.9</td>\n",
       "      <td>3.0</td>\n",
       "      <td>0.0</td>\n",
       "      <td>0.0</td>\n",
       "      <td>0.0</td>\n",
       "      <td>0.0</td>\n",
       "      <td>1.0</td>\n",
       "      <td>0.0</td>\n",
       "    </tr>\n",
       "    <tr>\n",
       "      <th>4996</th>\n",
       "      <td>4997.0</td>\n",
       "      <td>30.0</td>\n",
       "      <td>4.0</td>\n",
       "      <td>15.0</td>\n",
       "      <td>92037.0</td>\n",
       "      <td>4.0</td>\n",
       "      <td>0.4</td>\n",
       "      <td>1.0</td>\n",
       "      <td>85.0</td>\n",
       "      <td>0.0</td>\n",
       "      <td>0.0</td>\n",
       "      <td>0.0</td>\n",
       "      <td>1.0</td>\n",
       "      <td>0.0</td>\n",
       "    </tr>\n",
       "    <tr>\n",
       "      <th>4997</th>\n",
       "      <td>4998.0</td>\n",
       "      <td>63.0</td>\n",
       "      <td>39.0</td>\n",
       "      <td>24.0</td>\n",
       "      <td>93023.0</td>\n",
       "      <td>2.0</td>\n",
       "      <td>0.3</td>\n",
       "      <td>3.0</td>\n",
       "      <td>0.0</td>\n",
       "      <td>0.0</td>\n",
       "      <td>0.0</td>\n",
       "      <td>0.0</td>\n",
       "      <td>0.0</td>\n",
       "      <td>0.0</td>\n",
       "    </tr>\n",
       "    <tr>\n",
       "      <th>4998</th>\n",
       "      <td>4999.0</td>\n",
       "      <td>65.0</td>\n",
       "      <td>40.0</td>\n",
       "      <td>49.0</td>\n",
       "      <td>90034.0</td>\n",
       "      <td>3.0</td>\n",
       "      <td>0.5</td>\n",
       "      <td>2.0</td>\n",
       "      <td>0.0</td>\n",
       "      <td>0.0</td>\n",
       "      <td>0.0</td>\n",
       "      <td>0.0</td>\n",
       "      <td>1.0</td>\n",
       "      <td>0.0</td>\n",
       "    </tr>\n",
       "    <tr>\n",
       "      <th>4999</th>\n",
       "      <td>5000.0</td>\n",
       "      <td>28.0</td>\n",
       "      <td>4.0</td>\n",
       "      <td>83.0</td>\n",
       "      <td>92612.0</td>\n",
       "      <td>3.0</td>\n",
       "      <td>0.8</td>\n",
       "      <td>1.0</td>\n",
       "      <td>0.0</td>\n",
       "      <td>0.0</td>\n",
       "      <td>0.0</td>\n",
       "      <td>0.0</td>\n",
       "      <td>1.0</td>\n",
       "      <td>1.0</td>\n",
       "    </tr>\n",
       "  </tbody>\n",
       "</table>\n",
       "<p>5000 rows × 14 columns</p>\n",
       "</div>"
      ],
      "text/plain": [
       "          ID   Age  Experience  Income  ZIP Code  Family  CCAvg  Education  \\\n",
       "0        1.0  25.0         1.0    49.0   91107.0     4.0    1.6        1.0   \n",
       "1        2.0  45.0        19.0    34.0   90089.0     3.0    1.5        1.0   \n",
       "2        3.0  39.0        15.0    11.0   94720.0     1.0    1.0        1.0   \n",
       "3        4.0  35.0         9.0   100.0   94112.0     1.0    2.7        2.0   \n",
       "4        5.0  35.0         8.0    45.0   91330.0     4.0    1.0        2.0   \n",
       "...      ...   ...         ...     ...       ...     ...    ...        ...   \n",
       "4995  4996.0  29.0         3.0    40.0   92697.0     1.0    1.9        3.0   \n",
       "4996  4997.0  30.0         4.0    15.0   92037.0     4.0    0.4        1.0   \n",
       "4997  4998.0  63.0        39.0    24.0   93023.0     2.0    0.3        3.0   \n",
       "4998  4999.0  65.0        40.0    49.0   90034.0     3.0    0.5        2.0   \n",
       "4999  5000.0  28.0         4.0    83.0   92612.0     3.0    0.8        1.0   \n",
       "\n",
       "      Mortgage  Personal Loan  Securities Account  CD Account  Online  \\\n",
       "0          0.0            0.0                 1.0         0.0     0.0   \n",
       "1          0.0            0.0                 1.0         0.0     0.0   \n",
       "2          0.0            0.0                 0.0         0.0     0.0   \n",
       "3          0.0            0.0                 0.0         0.0     0.0   \n",
       "4          0.0            0.0                 0.0         0.0     0.0   \n",
       "...        ...            ...                 ...         ...     ...   \n",
       "4995       0.0            0.0                 0.0         0.0     1.0   \n",
       "4996      85.0            0.0                 0.0         0.0     1.0   \n",
       "4997       0.0            0.0                 0.0         0.0     0.0   \n",
       "4998       0.0            0.0                 0.0         0.0     1.0   \n",
       "4999       0.0            0.0                 0.0         0.0     1.0   \n",
       "\n",
       "      CreditCard  \n",
       "0            0.0  \n",
       "1            0.0  \n",
       "2            0.0  \n",
       "3            0.0  \n",
       "4            1.0  \n",
       "...          ...  \n",
       "4995         0.0  \n",
       "4996         0.0  \n",
       "4997         0.0  \n",
       "4998         0.0  \n",
       "4999         1.0  \n",
       "\n",
       "[5000 rows x 14 columns]"
      ]
     },
     "execution_count": 3,
     "metadata": {},
     "output_type": "execute_result"
    }
   ],
   "source": [
    "df=pd.read_excel('BankPersonalLoanModelling.xlsx',sheet_name='Data')\n",
    "df"
   ]
  },
  {
   "cell_type": "code",
   "execution_count": 10,
   "id": "fdf7bcc7",
   "metadata": {},
   "outputs": [
    {
     "name": "stdout",
     "output_type": "stream",
     "text": [
      "<class 'pandas.core.frame.DataFrame'>\n",
      "RangeIndex: 5000 entries, 0 to 4999\n",
      "Data columns (total 14 columns):\n",
      " #   Column              Non-Null Count  Dtype  \n",
      "---  ------              --------------  -----  \n",
      " 0   ID                  5000 non-null   float64\n",
      " 1   Age                 5000 non-null   float64\n",
      " 2   Experience          5000 non-null   float64\n",
      " 3   Income              5000 non-null   float64\n",
      " 4   ZIP Code            5000 non-null   float64\n",
      " 5   Family              5000 non-null   float64\n",
      " 6   CCAvg               5000 non-null   float64\n",
      " 7   Education           5000 non-null   float64\n",
      " 8   Mortgage            5000 non-null   float64\n",
      " 9   Personal Loan       5000 non-null   float64\n",
      " 10  Securities Account  5000 non-null   float64\n",
      " 11  CD Account          5000 non-null   float64\n",
      " 12  Online              5000 non-null   float64\n",
      " 13  CreditCard          5000 non-null   float64\n",
      "dtypes: float64(14)\n",
      "memory usage: 547.0 KB\n"
     ]
    }
   ],
   "source": [
    "df.info()"
   ]
  },
  {
   "cell_type": "markdown",
   "id": "d8f0b079",
   "metadata": {},
   "source": [
    "Answer 8"
   ]
  },
  {
   "cell_type": "code",
   "execution_count": 12,
   "id": "3c296eac",
   "metadata": {},
   "outputs": [
    {
     "data": {
      "text/html": [
       "<div>\n",
       "<style scoped>\n",
       "    .dataframe tbody tr th:only-of-type {\n",
       "        vertical-align: middle;\n",
       "    }\n",
       "\n",
       "    .dataframe tbody tr th {\n",
       "        vertical-align: top;\n",
       "    }\n",
       "\n",
       "    .dataframe thead th {\n",
       "        text-align: right;\n",
       "    }\n",
       "</style>\n",
       "<table border=\"1\" class=\"dataframe\">\n",
       "  <thead>\n",
       "    <tr style=\"text-align: right;\">\n",
       "      <th></th>\n",
       "      <th>count</th>\n",
       "      <th>mean</th>\n",
       "      <th>std</th>\n",
       "      <th>min</th>\n",
       "      <th>25%</th>\n",
       "      <th>50%</th>\n",
       "      <th>75%</th>\n",
       "      <th>max</th>\n",
       "    </tr>\n",
       "  </thead>\n",
       "  <tbody>\n",
       "    <tr>\n",
       "      <th>ID</th>\n",
       "      <td>5000.0</td>\n",
       "      <td>2500.500000</td>\n",
       "      <td>1443.520003</td>\n",
       "      <td>1.0</td>\n",
       "      <td>1250.75</td>\n",
       "      <td>2500.5</td>\n",
       "      <td>3750.25</td>\n",
       "      <td>5000.0</td>\n",
       "    </tr>\n",
       "    <tr>\n",
       "      <th>Age</th>\n",
       "      <td>5000.0</td>\n",
       "      <td>45.338400</td>\n",
       "      <td>11.463166</td>\n",
       "      <td>23.0</td>\n",
       "      <td>35.00</td>\n",
       "      <td>45.0</td>\n",
       "      <td>55.00</td>\n",
       "      <td>67.0</td>\n",
       "    </tr>\n",
       "    <tr>\n",
       "      <th>Experience</th>\n",
       "      <td>5000.0</td>\n",
       "      <td>20.104600</td>\n",
       "      <td>11.467954</td>\n",
       "      <td>-3.0</td>\n",
       "      <td>10.00</td>\n",
       "      <td>20.0</td>\n",
       "      <td>30.00</td>\n",
       "      <td>43.0</td>\n",
       "    </tr>\n",
       "    <tr>\n",
       "      <th>Income</th>\n",
       "      <td>5000.0</td>\n",
       "      <td>73.774200</td>\n",
       "      <td>46.033729</td>\n",
       "      <td>8.0</td>\n",
       "      <td>39.00</td>\n",
       "      <td>64.0</td>\n",
       "      <td>98.00</td>\n",
       "      <td>224.0</td>\n",
       "    </tr>\n",
       "    <tr>\n",
       "      <th>ZIP Code</th>\n",
       "      <td>5000.0</td>\n",
       "      <td>93152.503000</td>\n",
       "      <td>2121.852197</td>\n",
       "      <td>9307.0</td>\n",
       "      <td>91911.00</td>\n",
       "      <td>93437.0</td>\n",
       "      <td>94608.00</td>\n",
       "      <td>96651.0</td>\n",
       "    </tr>\n",
       "    <tr>\n",
       "      <th>Family</th>\n",
       "      <td>5000.0</td>\n",
       "      <td>2.396400</td>\n",
       "      <td>1.147663</td>\n",
       "      <td>1.0</td>\n",
       "      <td>1.00</td>\n",
       "      <td>2.0</td>\n",
       "      <td>3.00</td>\n",
       "      <td>4.0</td>\n",
       "    </tr>\n",
       "    <tr>\n",
       "      <th>CCAvg</th>\n",
       "      <td>5000.0</td>\n",
       "      <td>1.937913</td>\n",
       "      <td>1.747666</td>\n",
       "      <td>0.0</td>\n",
       "      <td>0.70</td>\n",
       "      <td>1.5</td>\n",
       "      <td>2.50</td>\n",
       "      <td>10.0</td>\n",
       "    </tr>\n",
       "    <tr>\n",
       "      <th>Education</th>\n",
       "      <td>5000.0</td>\n",
       "      <td>1.881000</td>\n",
       "      <td>0.839869</td>\n",
       "      <td>1.0</td>\n",
       "      <td>1.00</td>\n",
       "      <td>2.0</td>\n",
       "      <td>3.00</td>\n",
       "      <td>3.0</td>\n",
       "    </tr>\n",
       "    <tr>\n",
       "      <th>Mortgage</th>\n",
       "      <td>5000.0</td>\n",
       "      <td>56.498800</td>\n",
       "      <td>101.713802</td>\n",
       "      <td>0.0</td>\n",
       "      <td>0.00</td>\n",
       "      <td>0.0</td>\n",
       "      <td>101.00</td>\n",
       "      <td>635.0</td>\n",
       "    </tr>\n",
       "    <tr>\n",
       "      <th>Personal Loan</th>\n",
       "      <td>5000.0</td>\n",
       "      <td>0.096000</td>\n",
       "      <td>0.294621</td>\n",
       "      <td>0.0</td>\n",
       "      <td>0.00</td>\n",
       "      <td>0.0</td>\n",
       "      <td>0.00</td>\n",
       "      <td>1.0</td>\n",
       "    </tr>\n",
       "    <tr>\n",
       "      <th>Securities Account</th>\n",
       "      <td>5000.0</td>\n",
       "      <td>0.104400</td>\n",
       "      <td>0.305809</td>\n",
       "      <td>0.0</td>\n",
       "      <td>0.00</td>\n",
       "      <td>0.0</td>\n",
       "      <td>0.00</td>\n",
       "      <td>1.0</td>\n",
       "    </tr>\n",
       "    <tr>\n",
       "      <th>CD Account</th>\n",
       "      <td>5000.0</td>\n",
       "      <td>0.060400</td>\n",
       "      <td>0.238250</td>\n",
       "      <td>0.0</td>\n",
       "      <td>0.00</td>\n",
       "      <td>0.0</td>\n",
       "      <td>0.00</td>\n",
       "      <td>1.0</td>\n",
       "    </tr>\n",
       "    <tr>\n",
       "      <th>Online</th>\n",
       "      <td>5000.0</td>\n",
       "      <td>0.596800</td>\n",
       "      <td>0.490589</td>\n",
       "      <td>0.0</td>\n",
       "      <td>0.00</td>\n",
       "      <td>1.0</td>\n",
       "      <td>1.00</td>\n",
       "      <td>1.0</td>\n",
       "    </tr>\n",
       "    <tr>\n",
       "      <th>CreditCard</th>\n",
       "      <td>5000.0</td>\n",
       "      <td>0.294000</td>\n",
       "      <td>0.455637</td>\n",
       "      <td>0.0</td>\n",
       "      <td>0.00</td>\n",
       "      <td>0.0</td>\n",
       "      <td>1.00</td>\n",
       "      <td>1.0</td>\n",
       "    </tr>\n",
       "  </tbody>\n",
       "</table>\n",
       "</div>"
      ],
      "text/plain": [
       "                     count          mean          std     min       25%  \\\n",
       "ID                  5000.0   2500.500000  1443.520003     1.0   1250.75   \n",
       "Age                 5000.0     45.338400    11.463166    23.0     35.00   \n",
       "Experience          5000.0     20.104600    11.467954    -3.0     10.00   \n",
       "Income              5000.0     73.774200    46.033729     8.0     39.00   \n",
       "ZIP Code            5000.0  93152.503000  2121.852197  9307.0  91911.00   \n",
       "Family              5000.0      2.396400     1.147663     1.0      1.00   \n",
       "CCAvg               5000.0      1.937913     1.747666     0.0      0.70   \n",
       "Education           5000.0      1.881000     0.839869     1.0      1.00   \n",
       "Mortgage            5000.0     56.498800   101.713802     0.0      0.00   \n",
       "Personal Loan       5000.0      0.096000     0.294621     0.0      0.00   \n",
       "Securities Account  5000.0      0.104400     0.305809     0.0      0.00   \n",
       "CD Account          5000.0      0.060400     0.238250     0.0      0.00   \n",
       "Online              5000.0      0.596800     0.490589     0.0      0.00   \n",
       "CreditCard          5000.0      0.294000     0.455637     0.0      0.00   \n",
       "\n",
       "                        50%       75%      max  \n",
       "ID                   2500.5   3750.25   5000.0  \n",
       "Age                    45.0     55.00     67.0  \n",
       "Experience             20.0     30.00     43.0  \n",
       "Income                 64.0     98.00    224.0  \n",
       "ZIP Code            93437.0  94608.00  96651.0  \n",
       "Family                  2.0      3.00      4.0  \n",
       "CCAvg                   1.5      2.50     10.0  \n",
       "Education               2.0      3.00      3.0  \n",
       "Mortgage                0.0    101.00    635.0  \n",
       "Personal Loan           0.0      0.00      1.0  \n",
       "Securities Account      0.0      0.00      1.0  \n",
       "CD Account              0.0      0.00      1.0  \n",
       "Online                  1.0      1.00      1.0  \n",
       "CreditCard              0.0      1.00      1.0  "
      ]
     },
     "execution_count": 12,
     "metadata": {},
     "output_type": "execute_result"
    }
   ],
   "source": [
    "#statistical summary of all variables in the data set is as follows\n",
    "df.describe().T"
   ]
  },
  {
   "cell_type": "markdown",
   "id": "aedddfae",
   "metadata": {},
   "source": [
    "Answer 9"
   ]
  },
  {
   "cell_type": "code",
   "execution_count": 13,
   "id": "73ad9bbe",
   "metadata": {},
   "outputs": [
    {
     "data": {
      "text/plain": [
       "ID                    5000\n",
       "Age                     45\n",
       "Experience              47\n",
       "Income                 162\n",
       "ZIP Code               467\n",
       "Family                   4\n",
       "CCAvg                  108\n",
       "Education                3\n",
       "Mortgage               347\n",
       "Personal Loan            2\n",
       "Securities Account       2\n",
       "CD Account               2\n",
       "Online                   2\n",
       "CreditCard               2\n",
       "dtype: int64"
      ]
     },
     "execution_count": 13,
     "metadata": {},
     "output_type": "execute_result"
    }
   ],
   "source": [
    "df.nunique()"
   ]
  },
  {
   "cell_type": "code",
   "execution_count": 135,
   "id": "31c13d3f",
   "metadata": {},
   "outputs": [
    {
     "name": "stdout",
     "output_type": "stream",
     "text": [
      "The mean of values is Age              53.015369\n",
      "Experience       45.258969\n",
      "ZIP Code      28703.236369\n",
      "dtype: float64\n",
      "The median of values is Age           56.4988\n",
      "Experience    56.4988\n",
      "ZIP Code      56.4988\n",
      "dtype: float64\n"
     ]
    }
   ],
   "source": [
    "#measures of central tendency for quantitative continous and discrete data\n",
    "print('The mean of values is',df[['Age','Experience','ZIP Code']].mean())\n",
    "print('The median of values is',df[['Age','Experience','ZIP Code']].median())\n"
   ]
  },
  {
   "cell_type": "markdown",
   "id": "bf52fa22",
   "metadata": {},
   "source": [
    "Answer 10"
   ]
  },
  {
   "cell_type": "code",
   "execution_count": 133,
   "id": "8d564c4a",
   "metadata": {},
   "outputs": [
    {
     "name": "stdout",
     "output_type": "stream",
     "text": [
      "2.6804357244018977\n",
      "-1.9293778318983652\n",
      "-3.483430879999233\n",
      "The variance of Age is 67.4781442560568\n",
      "The std of Age is 8.214508156673581\n",
      "the CV is 15.494578823133281\n",
      "The CR of age is -0.4888888888888889\n"
     ]
    }
   ],
   "source": [
    "#By following calcutions and comparisions didnot find any similarity between age and experience\n",
    "print(df['Age'].kurt())\n",
    "print(df['Age'].skew())\n",
    "print(df['Age'].mean()-df['Age'].median())\n",
    "print('The variance of Age is',df['Age'].var())\n",
    "print('The std of Age is',df['Age'].std())\n",
    "print('the CV is',df['Age'].std()/df['Age'].mean()*100)\n",
    "mina=df['Age'].min()\n",
    "maxa=df['Age'].max()\n",
    "CRA=(mina-maxa)/(mina+maxa)\n",
    "print('The CR of age is',CRA)"
   ]
  },
  {
   "cell_type": "code",
   "execution_count": 134,
   "id": "476bddd4",
   "metadata": {},
   "outputs": [
    {
     "name": "stdout",
     "output_type": "stream",
     "text": [
      "-0.13946416144279494\n",
      "-1.2055447700100874\n",
      "-11.23983087999924\n",
      "The variance of Experience is 324.5142285976804\n",
      "The std of Experience is 18.01427846453142\n",
      "the CV is 39.802670751885465\n",
      "The CR of experience is -1.1121520482702416\n"
     ]
    }
   ],
   "source": [
    "print(df['Experience'].kurt())\n",
    "print(df['Experience'].skew())\n",
    "print(df['Experience'].mean()-df['Experience'].median())\n",
    "print('The variance of Experience is',df['Experience'].var())\n",
    "print('The std of Experience is',df['Experience'].std())\n",
    "print('the CV is',df['Experience'].std()/df['Experience'].mean()*100)\n",
    "mine=df['Experience'].min()\n",
    "maxe=df['Experience'].max()\n",
    "CRE=(mine-maxe)/(mine+maxe)\n",
    "print('The CR of experience is',CRE)"
   ]
  },
  {
   "cell_type": "markdown",
   "id": "a85bed0e",
   "metadata": {},
   "source": [
    "Answer 11"
   ]
  },
  {
   "cell_type": "code",
   "execution_count": 22,
   "id": "abe320b1",
   "metadata": {},
   "outputs": [
    {
     "data": {
      "text/plain": [
       "0    1.0\n",
       "Name: Family, dtype: float64"
      ]
     },
     "execution_count": 22,
     "metadata": {},
     "output_type": "execute_result"
    }
   ],
   "source": [
    "#most frequent is family belonging in 1 category\n",
    "df['Family'].mode()"
   ]
  },
  {
   "cell_type": "markdown",
   "id": "d723961e",
   "metadata": {},
   "source": [
    "Answer 12"
   ]
  },
  {
   "cell_type": "code",
   "execution_count": 32,
   "id": "1ace345a",
   "metadata": {},
   "outputs": [
    {
     "name": "stdout",
     "output_type": "stream",
     "text": [
      "The coefficient of variance of Income is 62.39814097758612\n"
     ]
    }
   ],
   "source": [
    "# Coefficient of variance is Standard deviation of income divided by mean of income\n",
    "\n",
    "CV=np.std(df['Income'],ddof=1)/np.mean(df['Income'])*100\n",
    "print('The coefficient of variance of Income is',CV)"
   ]
  },
  {
   "cell_type": "markdown",
   "id": "3adc6468",
   "metadata": {},
   "source": [
    "Answer 13"
   ]
  },
  {
   "cell_type": "code",
   "execution_count": 57,
   "id": "d3a4e0ce",
   "metadata": {},
   "outputs": [
    {
     "data": {
      "text/plain": [
       "(3462, 14)"
      ]
     },
     "execution_count": 57,
     "metadata": {},
     "output_type": "execute_result"
    }
   ],
   "source": [
    "#Mortgage has zero values in 3462 rows\n",
    "df[df['Mortgage']==0.0].shape"
   ]
  },
  {
   "cell_type": "code",
   "execution_count": 67,
   "id": "5cd564bb",
   "metadata": {},
   "outputs": [
    {
     "data": {
      "text/plain": [
       "0       56.4988\n",
       "1       56.4988\n",
       "2       56.4988\n",
       "3       56.4988\n",
       "4       56.4988\n",
       "         ...   \n",
       "4995    56.4988\n",
       "4996    85.0000\n",
       "4997    56.4988\n",
       "4998    56.4988\n",
       "4999    56.4988\n",
       "Name: Mortgage, Length: 5000, dtype: float64"
      ]
     },
     "execution_count": 67,
     "metadata": {},
     "output_type": "execute_result"
    }
   ],
   "source": [
    "#we will use median to fill in zeros and not mean, as it is influened by outliers\n",
    "#but median is 0.0 for mortgage so here using mean to fill in data\n",
    "mean_mortgage=df['Mortgage'].mean()\n",
    "df[df['Mortgage']==0.0]=mean_mortgage\n",
    "df['Mortgage']"
   ]
  },
  {
   "cell_type": "markdown",
   "id": "0552b090",
   "metadata": {},
   "source": [
    "Answer 14"
   ]
  },
  {
   "cell_type": "code",
   "execution_count": 89,
   "id": "d94d194d",
   "metadata": {},
   "outputs": [
    {
     "name": "stdout",
     "output_type": "stream",
     "text": [
      "CreditCard\n",
      "0.0000     128.951264\n",
      "1.0000     134.087850\n",
      "56.4988      0.000000\n",
      "Name: Experience, dtype: float64\n"
     ]
    }
   ],
   "source": [
    "# by calcutions below there is not much difference with or without cards in both experience and income\n",
    "#so credit card has no impact can be concluded\n",
    "print(df.groupby('CreditCard')['Experience'].var())"
   ]
  },
  {
   "cell_type": "code",
   "execution_count": 90,
   "id": "a699c715",
   "metadata": {},
   "outputs": [
    {
     "name": "stdout",
     "output_type": "stream",
     "text": [
      "CreditCard\n",
      "0.0000     2217.387326\n",
      "1.0000     2291.880188\n",
      "56.4988       0.000000\n",
      "Name: Income, dtype: float64\n"
     ]
    }
   ],
   "source": [
    "print(df.groupby('CreditCard')['Income'].var())"
   ]
  },
  {
   "cell_type": "markdown",
   "id": "4d8d7fa4",
   "metadata": {},
   "source": [
    "Answer 15"
   ]
  },
  {
   "cell_type": "code",
   "execution_count": 105,
   "id": "884ad82b",
   "metadata": {},
   "outputs": [
    {
     "data": {
      "text/plain": [
       "<AxesSubplot:>"
      ]
     },
     "execution_count": 105,
     "metadata": {},
     "output_type": "execute_result"
    },
    {
     "data": {
      "image/png": "[encoded data removed]",
      "text/plain": [
       "<Figure size 432x288 with 1 Axes>"
      ]
     },
     "metadata": {
      "needs_background": "light"
     },
     "output_type": "display_data"
    }
   ],
   "source": [
    "# Mortgage data from the above statistical calulations seem to be very varied.by plotting we can see many outliers beyond Q4\n",
    "df['Mortgage'].plot(kind='box')"
   ]
  },
  {
   "cell_type": "markdown",
   "id": "765e8943",
   "metadata": {},
   "source": [
    "Answer 16"
   ]
  },
  {
   "cell_type": "code",
   "execution_count": 36,
   "id": "fc4069db",
   "metadata": {},
   "outputs": [
    {
     "name": "stdout",
     "output_type": "stream",
     "text": [
      "0.01     10.00\n",
      "0.02     12.00\n",
      "0.03     13.00\n",
      "0.04     15.00\n",
      "0.05     18.00\n",
      "         ...  \n",
      "0.95    170.00\n",
      "0.96    175.00\n",
      "0.97    180.03\n",
      "0.98    185.00\n",
      "0.99    193.00\n",
      "Name: Income, Length: 99, dtype: float64\n"
     ]
    }
   ],
   "source": [
    "#the decile values of income are\n",
    "print(df['Income'].quantile(np.arange(0.01,1,0.01)))"
   ]
  },
  {
   "cell_type": "code",
   "execution_count": 39,
   "id": "8bad2ba0",
   "metadata": {},
   "outputs": [
    {
     "data": {
      "text/plain": [
       "<AxesSubplot:ylabel='Frequency'>"
      ]
     },
     "execution_count": 39,
     "metadata": {},
     "output_type": "execute_result"
    },
    {
     "data": {
      "image/png": "[encoded data removed]",
      "text/plain": [
       "<Figure size 432x288 with 1 Axes>"
      ]
     },
     "metadata": {
      "needs_background": "light"
     },
     "output_type": "display_data"
    }
   ],
   "source": [
    "df['Income'].quantile(np.arange(0.01,1,0.01)).plot(kind='hist')"
   ]
  },
  {
   "cell_type": "markdown",
   "id": "84102671",
   "metadata": {},
   "source": [
    "Answer 17"
   ]
  },
  {
   "cell_type": "code",
   "execution_count": 140,
   "id": "91b721ee",
   "metadata": {},
   "outputs": [
    {
     "name": "stdout",
     "output_type": "stream",
     "text": [
      "the IQR for income is 0.0\n"
     ]
    }
   ],
   "source": [
    "#IQR for Income ,CCAvg and Mortgage is follows\n",
    "q1_income= df['Income'].quantile(0.25) #25th percentile value of Q1 quater\n",
    "q3_income=df['Income'].quantile(0.75) #75th percentile value of Q3 quater\n",
    "print('the IQR for income is',q3_income-q1_income) # printing difference of two quaters"
   ]
  },
  {
   "cell_type": "code",
   "execution_count": 139,
   "id": "e98a2b3a",
   "metadata": {},
   "outputs": [
    {
     "name": "stdout",
     "output_type": "stream",
     "text": [
      "the IQR for CCAvg is 53.598800000000004\n"
     ]
    }
   ],
   "source": [
    "q1_CCAvg= df['CCAvg'].quantile(0.25)\n",
    "q3_CCAvg=df['CCAvg'].quantile(0.75)\n",
    "print('the IQR for CCAvg is',q3_CCAvg-q1_CCAvg)"
   ]
  },
  {
   "cell_type": "code",
   "execution_count": 138,
   "id": "5b3ff9ff",
   "metadata": {},
   "outputs": [
    {
     "name": "stdout",
     "output_type": "stream",
     "text": [
      "the IQR for Mortgage is 44.5012\n"
     ]
    }
   ],
   "source": [
    "q1_Mortgage= df['Mortgage'].quantile(0.25)\n",
    "q3_Mortgage=df['Mortgage'].quantile(0.75)\n",
    "print('the IQR for Mortgage is',q3_Mortgage-q1_Mortgage)"
   ]
  },
  {
   "cell_type": "markdown",
   "id": "943a06b5",
   "metadata": {},
   "source": [
    "Answer 18"
   ]
  },
  {
   "cell_type": "code",
   "execution_count": 100,
   "id": "7390900f",
   "metadata": {},
   "outputs": [
    {
     "data": {
      "text/plain": [
       "Income\n",
       "56.4988     56.498800\n",
       "185.0000     7.700000\n",
       "205.0000     7.566667\n",
       "138.0000     7.400000\n",
       "165.0000     7.300000\n",
       "              ...    \n",
       "14.0000      0.492308\n",
       "15.0000      0.446667\n",
       "8.0000       0.409524\n",
       "11.0000      0.363636\n",
       "9.0000       0.350000\n",
       "Name: CCAvg, Length: 157, dtype: float64"
      ]
     },
     "execution_count": 100,
     "metadata": {},
     "output_type": "execute_result"
    }
   ],
   "source": [
    "#Roughly it is seen that high income holders do spend more on credit cards\n",
    "df.groupby('Income')['CCAvg'].mean().sort_values(ascending=False)"
   ]
  },
  {
   "cell_type": "markdown",
   "id": "6704dd08",
   "metadata": {},
   "source": [
    "Answer 19"
   ]
  },
  {
   "cell_type": "code",
   "execution_count": 95,
   "id": "75fc8bf3",
   "metadata": {},
   "outputs": [
    {
     "name": "stdout",
     "output_type": "stream",
     "text": [
      "Online\n",
      "0.0000     72.510400\n",
      "1.0000     74.210296\n",
      "56.4988    56.498800\n",
      "Name: Income, dtype: float64\n"
     ]
    }
   ],
   "source": [
    "#by following calculations it may mean that internet facilities has no impact on Income\n",
    "print(df.groupby('Online')['Income'].mean())"
   ]
  },
  {
   "cell_type": "markdown",
   "id": "775a7937",
   "metadata": {},
   "source": [
    "Answer 20"
   ]
  },
  {
   "cell_type": "code",
   "execution_count": 91,
   "id": "3d17d1d8",
   "metadata": {},
   "outputs": [
    {
     "data": {
      "text/plain": [
       "0      -0.191233\n",
       "1      -0.191233\n",
       "2      -0.191233\n",
       "3      -0.191233\n",
       "4      -0.191233\n",
       "          ...   \n",
       "4995   -0.191233\n",
       "4996   -1.707007\n",
       "4997   -0.191233\n",
       "4998   -0.191233\n",
       "4999   -0.191233\n",
       "Name: Income, Length: 5000, dtype: float64"
      ]
     },
     "execution_count": 91,
     "metadata": {},
     "output_type": "execute_result"
    }
   ],
   "source": [
    "# zscore of income is \n",
    "from scipy import stats\n",
    "Z_income= df['Income']\n",
    "stats.zscore(Z_income)"
   ]
  }
 ],
 "metadata": {
  "kernelspec": {
   "display_name": "Python 3 (ipykernel)",
   "language": "python",
   "name": "python3"
  },
  "language_info": {
   "codemirror_mode": {
    "name": "ipython",
    "version": 3
   },
   "file_extension": ".py",
   "mimetype": "text/x-python",
   "name": "python",
   "nbconvert_exporter": "python",
   "pygments_lexer": "ipython3",
   "version": "3.9.12"
  }
 },
 "nbformat": 4,
 "nbformat_minor": 5
}
